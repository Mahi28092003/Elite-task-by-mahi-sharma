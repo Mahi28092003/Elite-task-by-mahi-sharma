{
 "cells": [
  {
   "cell_type": "code",
   "execution_count": 1,
   "id": "5cf93de3-81e6-48ee-9890-41ed80f34c38",
   "metadata": {},
   "outputs": [],
   "source": [
    "import pandas as pd \n",
    "import matplotlib.pyplot as plt\n",
    "import numpy as np"
   ]
  },
  {
   "cell_type": "code",
   "execution_count": 2,
   "id": "9ef3ff4b-63d5-45bd-8863-b167d4edc4e8",
   "metadata": {},
   "outputs": [],
   "source": [
    "df=pd.read_excel(\"C:/Users/sharm/Downloads/customer_feedback.xlsx\")"
   ]
  },
  {
   "cell_type": "code",
   "execution_count": 3,
   "id": "af6971b1-aa2c-4ab9-b2b7-7f0690341790",
   "metadata": {},
   "outputs": [
    {
     "name": "stdout",
     "output_type": "stream",
     "text": [
      "   Customer_ID                                           Feedback  Rating  \\\n",
      "0          101                 Great service, I am very satisfied       5   \n",
      "1          102  The delivery was late and the package was damaged       2   \n",
      "2          103               Good quality but slightly overpriced       4   \n",
      "3          104                     Customer support was excellent       5   \n",
      "4          105   Not happy with the product, very poor experience       1   \n",
      "5          106  Decent, but could be better in terms of packaging       3   \n",
      "6          107               Absolutely love it! Highly recommend       5   \n",
      "7          108                Average experience, nothing special       3   \n",
      "8          109                  Very bad, will not purchase again       1   \n",
      "9          110             Fast delivery and good value for money       4   \n",
      "\n",
      "   NPS_Score  \n",
      "0         10  \n",
      "1          4  \n",
      "2          7  \n",
      "3          9  \n",
      "4          2  \n",
      "5          6  \n",
      "6         10  \n",
      "7          7  \n",
      "8          3  \n",
      "9          9  \n"
     ]
    }
   ],
   "source": [
    "print(df)"
   ]
  },
  {
   "cell_type": "code",
   "execution_count": 4,
   "id": "9514e112-40eb-4331-8a11-c6c470fe5cea",
   "metadata": {},
   "outputs": [
    {
     "data": {
      "text/html": [
       "<div>\n",
       "<style scoped>\n",
       "    .dataframe tbody tr th:only-of-type {\n",
       "        vertical-align: middle;\n",
       "    }\n",
       "\n",
       "    .dataframe tbody tr th {\n",
       "        vertical-align: top;\n",
       "    }\n",
       "\n",
       "    .dataframe thead th {\n",
       "        text-align: right;\n",
       "    }\n",
       "</style>\n",
       "<table border=\"1\" class=\"dataframe\">\n",
       "  <thead>\n",
       "    <tr style=\"text-align: right;\">\n",
       "      <th></th>\n",
       "      <th>Customer_ID</th>\n",
       "      <th>Feedback</th>\n",
       "      <th>Rating</th>\n",
       "      <th>NPS_Score</th>\n",
       "    </tr>\n",
       "  </thead>\n",
       "  <tbody>\n",
       "    <tr>\n",
       "      <th>0</th>\n",
       "      <td>101</td>\n",
       "      <td>Great service, I am very satisfied</td>\n",
       "      <td>5</td>\n",
       "      <td>10</td>\n",
       "    </tr>\n",
       "    <tr>\n",
       "      <th>1</th>\n",
       "      <td>102</td>\n",
       "      <td>The delivery was late and the package was damaged</td>\n",
       "      <td>2</td>\n",
       "      <td>4</td>\n",
       "    </tr>\n",
       "    <tr>\n",
       "      <th>2</th>\n",
       "      <td>103</td>\n",
       "      <td>Good quality but slightly overpriced</td>\n",
       "      <td>4</td>\n",
       "      <td>7</td>\n",
       "    </tr>\n",
       "    <tr>\n",
       "      <th>3</th>\n",
       "      <td>104</td>\n",
       "      <td>Customer support was excellent</td>\n",
       "      <td>5</td>\n",
       "      <td>9</td>\n",
       "    </tr>\n",
       "    <tr>\n",
       "      <th>4</th>\n",
       "      <td>105</td>\n",
       "      <td>Not happy with the product, very poor experience</td>\n",
       "      <td>1</td>\n",
       "      <td>2</td>\n",
       "    </tr>\n",
       "  </tbody>\n",
       "</table>\n",
       "</div>"
      ],
      "text/plain": [
       "   Customer_ID                                           Feedback  Rating  \\\n",
       "0          101                 Great service, I am very satisfied       5   \n",
       "1          102  The delivery was late and the package was damaged       2   \n",
       "2          103               Good quality but slightly overpriced       4   \n",
       "3          104                     Customer support was excellent       5   \n",
       "4          105   Not happy with the product, very poor experience       1   \n",
       "\n",
       "   NPS_Score  \n",
       "0         10  \n",
       "1          4  \n",
       "2          7  \n",
       "3          9  \n",
       "4          2  "
      ]
     },
     "execution_count": 4,
     "metadata": {},
     "output_type": "execute_result"
    }
   ],
   "source": [
    "df.head()"
   ]
  },
  {
   "cell_type": "code",
   "execution_count": 7,
   "id": "49cb0f4d-1287-4d6c-a7a0-ba63935c268c",
   "metadata": {},
   "outputs": [
    {
     "data": {
      "text/plain": [
       "(10, 4)"
      ]
     },
     "execution_count": 7,
     "metadata": {},
     "output_type": "execute_result"
    }
   ],
   "source": [
    "df.shape"
   ]
  },
  {
   "cell_type": "code",
   "execution_count": 8,
   "id": "cbf91c00-7589-4d96-b1f5-444f5961d390",
   "metadata": {},
   "outputs": [
    {
     "data": {
      "text/html": [
       "<div>\n",
       "<style scoped>\n",
       "    .dataframe tbody tr th:only-of-type {\n",
       "        vertical-align: middle;\n",
       "    }\n",
       "\n",
       "    .dataframe tbody tr th {\n",
       "        vertical-align: top;\n",
       "    }\n",
       "\n",
       "    .dataframe thead th {\n",
       "        text-align: right;\n",
       "    }\n",
       "</style>\n",
       "<table border=\"1\" class=\"dataframe\">\n",
       "  <thead>\n",
       "    <tr style=\"text-align: right;\">\n",
       "      <th></th>\n",
       "      <th>Customer_ID</th>\n",
       "      <th>Rating</th>\n",
       "      <th>NPS_Score</th>\n",
       "    </tr>\n",
       "  </thead>\n",
       "  <tbody>\n",
       "    <tr>\n",
       "      <th>count</th>\n",
       "      <td>10.00000</td>\n",
       "      <td>10.000000</td>\n",
       "      <td>10.000000</td>\n",
       "    </tr>\n",
       "    <tr>\n",
       "      <th>mean</th>\n",
       "      <td>105.50000</td>\n",
       "      <td>3.300000</td>\n",
       "      <td>6.700000</td>\n",
       "    </tr>\n",
       "    <tr>\n",
       "      <th>std</th>\n",
       "      <td>3.02765</td>\n",
       "      <td>1.567021</td>\n",
       "      <td>2.907844</td>\n",
       "    </tr>\n",
       "    <tr>\n",
       "      <th>min</th>\n",
       "      <td>101.00000</td>\n",
       "      <td>1.000000</td>\n",
       "      <td>2.000000</td>\n",
       "    </tr>\n",
       "    <tr>\n",
       "      <th>25%</th>\n",
       "      <td>103.25000</td>\n",
       "      <td>2.250000</td>\n",
       "      <td>4.500000</td>\n",
       "    </tr>\n",
       "    <tr>\n",
       "      <th>50%</th>\n",
       "      <td>105.50000</td>\n",
       "      <td>3.500000</td>\n",
       "      <td>7.000000</td>\n",
       "    </tr>\n",
       "    <tr>\n",
       "      <th>75%</th>\n",
       "      <td>107.75000</td>\n",
       "      <td>4.750000</td>\n",
       "      <td>9.000000</td>\n",
       "    </tr>\n",
       "    <tr>\n",
       "      <th>max</th>\n",
       "      <td>110.00000</td>\n",
       "      <td>5.000000</td>\n",
       "      <td>10.000000</td>\n",
       "    </tr>\n",
       "  </tbody>\n",
       "</table>\n",
       "</div>"
      ],
      "text/plain": [
       "       Customer_ID     Rating  NPS_Score\n",
       "count     10.00000  10.000000  10.000000\n",
       "mean     105.50000   3.300000   6.700000\n",
       "std        3.02765   1.567021   2.907844\n",
       "min      101.00000   1.000000   2.000000\n",
       "25%      103.25000   2.250000   4.500000\n",
       "50%      105.50000   3.500000   7.000000\n",
       "75%      107.75000   4.750000   9.000000\n",
       "max      110.00000   5.000000  10.000000"
      ]
     },
     "execution_count": 8,
     "metadata": {},
     "output_type": "execute_result"
    }
   ],
   "source": [
    "df.describe()"
   ]
  },
  {
   "cell_type": "code",
   "execution_count": 9,
   "id": "030522e3-c96b-424a-bb79-3c88e07d774d",
   "metadata": {},
   "outputs": [
    {
     "data": {
      "text/html": [
       "<div>\n",
       "<style scoped>\n",
       "    .dataframe tbody tr th:only-of-type {\n",
       "        vertical-align: middle;\n",
       "    }\n",
       "\n",
       "    .dataframe tbody tr th {\n",
       "        vertical-align: top;\n",
       "    }\n",
       "\n",
       "    .dataframe thead th {\n",
       "        text-align: right;\n",
       "    }\n",
       "</style>\n",
       "<table border=\"1\" class=\"dataframe\">\n",
       "  <thead>\n",
       "    <tr style=\"text-align: right;\">\n",
       "      <th></th>\n",
       "      <th>Customer_ID</th>\n",
       "      <th>Feedback</th>\n",
       "      <th>Rating</th>\n",
       "      <th>NPS_Score</th>\n",
       "    </tr>\n",
       "  </thead>\n",
       "  <tbody>\n",
       "    <tr>\n",
       "      <th>5</th>\n",
       "      <td>106</td>\n",
       "      <td>Decent, but could be better in terms of packaging</td>\n",
       "      <td>3</td>\n",
       "      <td>6</td>\n",
       "    </tr>\n",
       "    <tr>\n",
       "      <th>6</th>\n",
       "      <td>107</td>\n",
       "      <td>Absolutely love it! Highly recommend</td>\n",
       "      <td>5</td>\n",
       "      <td>10</td>\n",
       "    </tr>\n",
       "    <tr>\n",
       "      <th>7</th>\n",
       "      <td>108</td>\n",
       "      <td>Average experience, nothing special</td>\n",
       "      <td>3</td>\n",
       "      <td>7</td>\n",
       "    </tr>\n",
       "    <tr>\n",
       "      <th>8</th>\n",
       "      <td>109</td>\n",
       "      <td>Very bad, will not purchase again</td>\n",
       "      <td>1</td>\n",
       "      <td>3</td>\n",
       "    </tr>\n",
       "    <tr>\n",
       "      <th>9</th>\n",
       "      <td>110</td>\n",
       "      <td>Fast delivery and good value for money</td>\n",
       "      <td>4</td>\n",
       "      <td>9</td>\n",
       "    </tr>\n",
       "  </tbody>\n",
       "</table>\n",
       "</div>"
      ],
      "text/plain": [
       "   Customer_ID                                           Feedback  Rating  \\\n",
       "5          106  Decent, but could be better in terms of packaging       3   \n",
       "6          107               Absolutely love it! Highly recommend       5   \n",
       "7          108                Average experience, nothing special       3   \n",
       "8          109                  Very bad, will not purchase again       1   \n",
       "9          110             Fast delivery and good value for money       4   \n",
       "\n",
       "   NPS_Score  \n",
       "5          6  \n",
       "6         10  \n",
       "7          7  \n",
       "8          3  \n",
       "9          9  "
      ]
     },
     "execution_count": 9,
     "metadata": {},
     "output_type": "execute_result"
    }
   ],
   "source": [
    "df.tail()"
   ]
  },
  {
   "cell_type": "code",
   "execution_count": 10,
   "id": "eca3d920-09a2-4752-bf60-86af17a9e655",
   "metadata": {},
   "outputs": [
    {
     "name": "stdout",
     "output_type": "stream",
     "text": [
      "<class 'pandas.core.frame.DataFrame'>\n",
      "RangeIndex: 10 entries, 0 to 9\n",
      "Data columns (total 4 columns):\n",
      " #   Column       Non-Null Count  Dtype \n",
      "---  ------       --------------  ----- \n",
      " 0   Customer_ID  10 non-null     int64 \n",
      " 1   Feedback     10 non-null     object\n",
      " 2   Rating       10 non-null     int64 \n",
      " 3   NPS_Score    10 non-null     int64 \n",
      "dtypes: int64(3), object(1)\n",
      "memory usage: 452.0+ bytes\n"
     ]
    }
   ],
   "source": [
    "df.info()"
   ]
  },
  {
   "cell_type": "code",
   "execution_count": 11,
   "id": "8f251b77-f1f1-417b-9c9f-69cc1e4391f7",
   "metadata": {},
   "outputs": [
    {
     "name": "stdout",
     "output_type": "stream",
     "text": [
      "Defaulting to user installation because normal site-packages is not writeable\n",
      "Collecting textblob\n",
      "  Downloading textblob-0.19.0-py3-none-any.whl.metadata (4.4 kB)\n",
      "Collecting nltk>=3.9 (from textblob)\n",
      "  Downloading nltk-3.9.1-py3-none-any.whl.metadata (2.9 kB)\n",
      "Collecting click (from nltk>=3.9->textblob)\n",
      "  Downloading click-8.2.1-py3-none-any.whl.metadata (2.5 kB)\n",
      "Requirement already satisfied: joblib in c:\\users\\sharm\\appdata\\local\\packages\\pythonsoftwarefoundation.python.3.13_qbz5n2kfra8p0\\localcache\\local-packages\\python313\\site-packages (from nltk>=3.9->textblob) (1.5.1)\n",
      "Collecting regex>=2021.8.3 (from nltk>=3.9->textblob)\n",
      "  Downloading regex-2025.8.29-cp313-cp313-win_amd64.whl.metadata (41 kB)\n",
      "Collecting tqdm (from nltk>=3.9->textblob)\n",
      "  Downloading tqdm-4.67.1-py3-none-any.whl.metadata (57 kB)\n",
      "Requirement already satisfied: colorama in c:\\users\\sharm\\appdata\\local\\packages\\pythonsoftwarefoundation.python.3.13_qbz5n2kfra8p0\\localcache\\local-packages\\python313\\site-packages (from click->nltk>=3.9->textblob) (0.4.6)\n",
      "Downloading textblob-0.19.0-py3-none-any.whl (624 kB)\n",
      "   ---------------------------------------- 0.0/624.3 kB ? eta -:--:--\n",
      "   ---------------- ----------------------- 262.1/624.3 kB ? eta -:--:--\n",
      "   ---------------------------------------- 624.3/624.3 kB 2.1 MB/s  0:00:00\n",
      "Downloading nltk-3.9.1-py3-none-any.whl (1.5 MB)\n",
      "   ---------------------------------------- 0.0/1.5 MB ? eta -:--:--\n",
      "   ---------------------------------------- 0.0/1.5 MB ? eta -:--:--\n",
      "   ---------------------------------------- 0.0/1.5 MB ? eta -:--:--\n",
      "   ------ --------------------------------- 0.3/1.5 MB ? eta -:--:--\n",
      "   ------ --------------------------------- 0.3/1.5 MB ? eta -:--:--\n",
      "   ------------- -------------------------- 0.5/1.5 MB 533.3 kB/s eta 0:00:02\n",
      "   ------------- -------------------------- 0.5/1.5 MB 533.3 kB/s eta 0:00:02\n",
      "   -------------------- ------------------- 0.8/1.5 MB 551.4 kB/s eta 0:00:02\n",
      "   -------------------- ------------------- 0.8/1.5 MB 551.4 kB/s eta 0:00:02\n",
      "   -------------------- ------------------- 0.8/1.5 MB 551.4 kB/s eta 0:00:02\n",
      "   -------------------- ------------------- 0.8/1.5 MB 551.4 kB/s eta 0:00:02\n",
      "   -------------------- ------------------- 0.8/1.5 MB 551.4 kB/s eta 0:00:02\n",
      "   --------------------------- ------------ 1.0/1.5 MB 395.6 kB/s eta 0:00:02\n",
      "   --------------------------- ------------ 1.0/1.5 MB 395.6 kB/s eta 0:00:02\n",
      "   --------------------------- ------------ 1.0/1.5 MB 395.6 kB/s eta 0:00:02\n",
      "   ---------------------------------- ----- 1.3/1.5 MB 403.5 kB/s eta 0:00:01\n",
      "   ---------------------------------- ----- 1.3/1.5 MB 403.5 kB/s eta 0:00:01\n",
      "   ---------------------------------------- 1.5/1.5 MB 397.1 kB/s  0:00:03\n",
      "Downloading regex-2025.8.29-cp313-cp313-win_amd64.whl (275 kB)\n",
      "Downloading click-8.2.1-py3-none-any.whl (102 kB)\n",
      "Downloading tqdm-4.67.1-py3-none-any.whl (78 kB)\n",
      "Installing collected packages: tqdm, regex, click, nltk, textblob\n",
      "\n",
      "   ---------------------------------------- 0/5 [tqdm]\n",
      "   ---------------------------------------- 0/5 [tqdm]\n",
      "   ---------------------------------------- 0/5 [tqdm]\n",
      "   ---------------------------------------- 0/5 [tqdm]\n",
      "   ---------------------------------------- 0/5 [tqdm]\n",
      "   ---------------------------------------- 0/5 [tqdm]\n",
      "   -------- ------------------------------- 1/5 [regex]\n",
      "   -------- ------------------------------- 1/5 [regex]\n",
      "   ---------------- ----------------------- 2/5 [click]\n",
      "   ---------------- ----------------------- 2/5 [click]\n",
      "   ---------------- ----------------------- 2/5 [click]\n",
      "   ------------------------ --------------- 3/5 [nltk]\n",
      "   ------------------------ --------------- 3/5 [nltk]\n",
      "   ------------------------ --------------- 3/5 [nltk]\n",
      "   ------------------------ --------------- 3/5 [nltk]\n",
      "   ------------------------ --------------- 3/5 [nltk]\n",
      "   ------------------------ --------------- 3/5 [nltk]\n",
      "   ------------------------ --------------- 3/5 [nltk]\n",
      "   ------------------------ --------------- 3/5 [nltk]\n",
      "   ------------------------ --------------- 3/5 [nltk]\n",
      "   ------------------------ --------------- 3/5 [nltk]\n",
      "   ------------------------ --------------- 3/5 [nltk]\n",
      "   ------------------------ --------------- 3/5 [nltk]\n",
      "   ------------------------ --------------- 3/5 [nltk]\n",
      "   ------------------------ --------------- 3/5 [nltk]\n",
      "   ------------------------ --------------- 3/5 [nltk]\n",
      "   ------------------------ --------------- 3/5 [nltk]\n",
      "   ------------------------ --------------- 3/5 [nltk]\n",
      "   ------------------------ --------------- 3/5 [nltk]\n",
      "   ------------------------ --------------- 3/5 [nltk]\n",
      "   ------------------------ --------------- 3/5 [nltk]\n",
      "   ------------------------ --------------- 3/5 [nltk]\n",
      "   ------------------------ --------------- 3/5 [nltk]\n",
      "   ------------------------ --------------- 3/5 [nltk]\n",
      "   ------------------------ --------------- 3/5 [nltk]\n",
      "   ------------------------ --------------- 3/5 [nltk]\n",
      "   ------------------------ --------------- 3/5 [nltk]\n",
      "   ------------------------ --------------- 3/5 [nltk]\n",
      "   ------------------------ --------------- 3/5 [nltk]\n",
      "   ------------------------ --------------- 3/5 [nltk]\n",
      "   ------------------------ --------------- 3/5 [nltk]\n",
      "   ------------------------ --------------- 3/5 [nltk]\n",
      "   ------------------------ --------------- 3/5 [nltk]\n",
      "   ------------------------ --------------- 3/5 [nltk]\n",
      "   ------------------------ --------------- 3/5 [nltk]\n",
      "   ------------------------ --------------- 3/5 [nltk]\n",
      "   ------------------------ --------------- 3/5 [nltk]\n",
      "   ------------------------ --------------- 3/5 [nltk]\n",
      "   ------------------------ --------------- 3/5 [nltk]\n",
      "   ------------------------ --------------- 3/5 [nltk]\n",
      "   ------------------------ --------------- 3/5 [nltk]\n",
      "   ------------------------ --------------- 3/5 [nltk]\n",
      "   ------------------------ --------------- 3/5 [nltk]\n",
      "   ------------------------ --------------- 3/5 [nltk]\n",
      "   ------------------------ --------------- 3/5 [nltk]\n",
      "   ------------------------ --------------- 3/5 [nltk]\n",
      "   ------------------------ --------------- 3/5 [nltk]\n",
      "   ------------------------ --------------- 3/5 [nltk]\n",
      "   ------------------------ --------------- 3/5 [nltk]\n",
      "   ------------------------ --------------- 3/5 [nltk]\n",
      "   ------------------------ --------------- 3/5 [nltk]\n",
      "   ------------------------ --------------- 3/5 [nltk]\n",
      "   ------------------------ --------------- 3/5 [nltk]\n",
      "   ------------------------ --------------- 3/5 [nltk]\n",
      "   ------------------------ --------------- 3/5 [nltk]\n",
      "   ------------------------ --------------- 3/5 [nltk]\n",
      "   ------------------------ --------------- 3/5 [nltk]\n",
      "   -------------------------------- ------- 4/5 [textblob]\n",
      "   -------------------------------- ------- 4/5 [textblob]\n",
      "   -------------------------------- ------- 4/5 [textblob]\n",
      "   ---------------------------------------- 5/5 [textblob]\n",
      "\n",
      "Successfully installed click-8.2.1 nltk-3.9.1 regex-2025.8.29 textblob-0.19.0 tqdm-4.67.1\n",
      "Note: you may need to restart the kernel to use updated packages.\n"
     ]
    },
    {
     "name": "stderr",
     "output_type": "stream",
     "text": [
      "  WARNING: The script tqdm.exe is installed in 'C:\\Users\\sharm\\AppData\\Local\\Packages\\PythonSoftwareFoundation.Python.3.13_qbz5n2kfra8p0\\LocalCache\\local-packages\\Python313\\Scripts' which is not on PATH.\n",
      "  Consider adding this directory to PATH or, if you prefer to suppress this warning, use --no-warn-script-location.\n",
      "  WARNING: The script nltk.exe is installed in 'C:\\Users\\sharm\\AppData\\Local\\Packages\\PythonSoftwareFoundation.Python.3.13_qbz5n2kfra8p0\\LocalCache\\local-packages\\Python313\\Scripts' which is not on PATH.\n",
      "  Consider adding this directory to PATH or, if you prefer to suppress this warning, use --no-warn-script-location.\n"
     ]
    }
   ],
   "source": [
    "pip install textblob"
   ]
  },
  {
   "cell_type": "code",
   "execution_count": 12,
   "id": "abe99a41-c1cd-40aa-963e-604926c54899",
   "metadata": {},
   "outputs": [],
   "source": [
    "from textblob import TextBlob\n",
    "\n",
    "def get_sentiment(text):\n",
    "    analysis = TextBlob(text)\n",
    "    if analysis.sentiment.polarity > 0.1:\n",
    "        return \"Positive\"\n",
    "    elif analysis.sentiment.polarity < -0.1:\n",
    "        return \"Negative\"\n",
    "    else:\n",
    "        return \"Neutral\"\n",
    "\n",
    "df[\"Sentiment\"] = df[\"Feedback\"].apply(get_sentiment)"
   ]
  },
  {
   "cell_type": "code",
   "execution_count": 13,
   "id": "a1f10ce5-d4ba-4054-8949-54a959861a26",
   "metadata": {},
   "outputs": [
    {
     "name": "stdout",
     "output_type": "stream",
     "text": [
      "0    Positive\n",
      "1    Negative\n",
      "2    Positive\n",
      "3    Positive\n",
      "4    Negative\n",
      "5    Positive\n",
      "6    Positive\n",
      "7    Positive\n",
      "8    Negative\n",
      "9    Positive\n",
      "Name: Sentiment, dtype: object\n"
     ]
    }
   ],
   "source": [
    "print(df[\"Sentiment\"])"
   ]
  },
  {
   "cell_type": "code",
   "execution_count": 14,
   "id": "9c40b241-cab8-47b3-8966-3ee89441b225",
   "metadata": {},
   "outputs": [],
   "source": [
    "def categorize_nps(score):\n",
    "    if score >= 9:\n",
    "        return \"Promoter\"\n",
    "    elif score >= 7:\n",
    "        return \"Passive\"\n",
    "    else:\n",
    "        return \"Detractor\"\n",
    "\n",
    "df[\"NPS_Category\"] = df[\"NPS_Score\"].apply(categorize_nps)"
   ]
  },
  {
   "cell_type": "code",
   "execution_count": 15,
   "id": "8aca241f-754e-489d-a0c3-add8e5f04ba2",
   "metadata": {},
   "outputs": [
    {
     "name": "stdout",
     "output_type": "stream",
     "text": [
      "0     Promoter\n",
      "1    Detractor\n",
      "2      Passive\n",
      "3     Promoter\n",
      "4    Detractor\n",
      "5    Detractor\n",
      "6     Promoter\n",
      "7      Passive\n",
      "8    Detractor\n",
      "9     Promoter\n",
      "Name: NPS_Category, dtype: object\n"
     ]
    }
   ],
   "source": [
    "print(df[\"NPS_Category\"])"
   ]
  },
  {
   "cell_type": "code",
   "execution_count": 16,
   "id": "17efaec2-57b0-48b5-a9cf-107edd7deaea",
   "metadata": {},
   "outputs": [],
   "source": [
    "promoters = (df[\"NPS_Category\"] == \"Promoter\").sum()\n",
    "detractors = (df[\"NPS_Category\"] == \"Detractor\").sum()\n",
    "total = len(df)"
   ]
  },
  {
   "cell_type": "code",
   "execution_count": null,
   "id": "4b0800af-2b78-47e8-8866-ea1ac2cf7b06",
   "metadata": {},
   "outputs": [],
   "source": []
  }
 ],
 "metadata": {
  "kernelspec": {
   "display_name": "Python 3 (ipykernel)",
   "language": "python",
   "name": "python3"
  },
  "language_info": {
   "codemirror_mode": {
    "name": "ipython",
    "version": 3
   },
   "file_extension": ".py",
   "mimetype": "text/x-python",
   "name": "python",
   "nbconvert_exporter": "python",
   "pygments_lexer": "ipython3",
   "version": "3.13.7"
  }
 },
 "nbformat": 4,
 "nbformat_minor": 5
}
